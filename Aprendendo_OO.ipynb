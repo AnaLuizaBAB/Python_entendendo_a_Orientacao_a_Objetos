{
 "cells": [
  {
   "cell_type": "markdown",
   "metadata": {},
   "source": [
    "- Vamos ver a lógica necessária para criar uma conta bancária, precisaremos: Nome do usuário, número da conta, daldo, limite e etc... Vamos criar isso de algumas formas para entendermos a lógica.\n",
    "\n",
    "- 1° modo de se fazer:"
   ]
  },
  {
   "cell_type": "code",
   "execution_count": null,
   "metadata": {},
   "outputs": [],
   "source": [
    "conta = 1213\n",
    "nome = \"Ana\"\n",
    "saldo = 16000.0\n",
    "limite = 40000.0\n",
    "\n",
    "conta2 = 456\n",
    "nome2 = \"Luiza\"\n",
    "saldo2 = 20000.0\n",
    "limite2 = 40000.0"
   ]
  },
  {
   "cell_type": "code",
   "execution_count": null,
   "metadata": {},
   "outputs": [],
   "source": [
    "# se \"chamarmos\" qualquer uma  das variáveis iremos receber o valor dela:\n",
    "\n",
    "limite, limite2\n",
    "\n",
    "# Mas isso não é muito otimizado."
   ]
  },
  {
   "cell_type": "markdown",
   "metadata": {},
   "source": [
    "- 2° modo (usando dicionário):"
   ]
  },
  {
   "cell_type": "code",
   "execution_count": null,
   "metadata": {},
   "outputs": [],
   "source": [
    "conta =  {\"conta\": 1213,\n",
    "\"nome\": \"Ana\",\n",
    "\"saldo\": 16000.0,\n",
    "\"limite\": 40000.0}\n",
    "\n",
    "conta2 = {\"conta2\": 456,\n",
    "\"nome2\": \"Luiza\",\n",
    "\"saldo2\": 20000.0,\n",
    "\"limite2\": 40000.0}"
   ]
  },
  {
   "cell_type": "code",
   "execution_count": null,
   "metadata": {},
   "outputs": [],
   "source": [
    "# se \"chamarmos\" qualquer uma  das variáveis iremos receber o valor dela:\n",
    "\n",
    "conta2[\"saldo2\"], conta[\"nome\"]\n",
    "\n",
    "## Mas isso ainda não é muito otimizado."
   ]
  },
  {
   "cell_type": "markdown",
   "metadata": {},
   "source": [
    "- 3° modo de se fazer:"
   ]
  },
  {
   "cell_type": "code",
   "execution_count": null,
   "metadata": {},
   "outputs": [],
   "source": [
    "# vamos criar uma função que seja responsável por criar essas contas:\n",
    "\n",
    "def cria_conta(conta, nome, saldo, limite):\n",
    "    conta =  {\"conta\": conta, \"nome\": nome, \"saldo\": saldo, \"limite\": limite}\n",
    "    return conta"
   ]
  },
  {
   "cell_type": "code",
   "execution_count": null,
   "metadata": {},
   "outputs": [],
   "source": [
    "conta3 = cria_conta(3890, \"Priscila\", 16000.0, 36000.0)"
   ]
  },
  {
   "cell_type": "code",
   "execution_count": null,
   "metadata": {},
   "outputs": [],
   "source": [
    "# após criarmos a conta poer meio da função \"cria_conta\" podemos chamar qualquer uma das variáveis:\n",
    "\n",
    "conta3[\"saldo\"],conta3[\"nome\"], conta3[\"limite\"]"
   ]
  },
  {
   "cell_type": "markdown",
   "metadata": {},
   "source": [
    "- Vamos criar mais algumas funcionalidades para essa conta: depósitos, saques e extratos"
   ]
  },
  {
   "cell_type": "code",
   "execution_count": null,
   "metadata": {},
   "outputs": [],
   "source": [
    "def sacar (conta, valor):\n",
    "    conta[\"saldo\"] -= valor\n",
    "\n",
    "def depositar(conta, valor):\n",
    "    conta[\"saldo\"] += valor\n",
    "\n",
    "def extrato (conta):\n",
    "    return conta[\"saldo\"]"
   ]
  },
  {
   "cell_type": "code",
   "execution_count": null,
   "metadata": {},
   "outputs": [],
   "source": [
    "# vamos fazer alguns exemplos: Quero sacar 1000 da conta3\n",
    "\n",
    "sacar(conta3,1000)"
   ]
  },
  {
   "cell_type": "code",
   "execution_count": null,
   "metadata": {},
   "outputs": [],
   "source": [
    "# vamos ver se funcionou (a conta 3 inicialmente tinha um saldo de 16.000,00)\n",
    "\n",
    "conta3[\"saldo\"]"
   ]
  },
  {
   "cell_type": "code",
   "execution_count": null,
   "metadata": {},
   "outputs": [],
   "source": [
    "# agora vamos testar a função extrato:\n",
    "\n",
    "extrato(conta3)"
   ]
  },
  {
   "cell_type": "markdown",
   "metadata": {},
   "source": [
    "- Agora vamos ver alguns problemas nesse modelo que estamos criando por meio da abordagem procedural:\n",
    "\n",
    "- 1° não somos obrigados a usar essas funções para criar contas, depositar ou sacar. Com isso podemos facilmente criar uma conta que não contenham todos os parâmetros sitados na função (conta, nome, saldo e função). Isso com certeza bagunçaria nosso \"sistema bancário\", ja que seria possivel criar uma conta sem saldo por exemplo ou uma conta sem um titular...\n",
    "\n",
    "- 2° imagine uma conta criada sem o parâmetro \"saldo\" operações de depósito e saque dariam erro.\n",
    "\n",
    "\n",
    "Para resolver problemas como esses nasceu a Programação Orientada a Objeto!"
   ]
  },
  {
   "cell_type": "markdown",
   "metadata": {},
   "source": [
    "- A abordagem procedural dificulta a manutenção do código, pois qualquer mudança em uma função pode afetar outras partes do código que se baseiam nela.\n"
   ]
  },
  {
   "cell_type": "markdown",
   "metadata": {},
   "source": [
    "- Iniciando OO"
   ]
  },
  {
   "cell_type": "code",
   "execution_count": null,
   "metadata": {},
   "outputs": [],
   "source": [
    "class Conta():\n",
    "\n",
    "    pass\n",
    "\n",
    "# esse \"pass\" é para indicar que a classe foi criada mas nada foi escrito só que mesmo assim gostariamos de fazer o programa rodar."
   ]
  },
  {
   "cell_type": "code",
   "execution_count": null,
   "metadata": {},
   "outputs": [],
   "source": [
    "contan = Conta()\n",
    "\n",
    "contan\n",
    "\n",
    "# esse resultado nos mostra onde essa \"contan\" foi armazenada na memória."
   ]
  },
  {
   "cell_type": "markdown",
   "metadata": {},
   "source": [
    "- construtor"
   ]
  },
  {
   "cell_type": "code",
   "execution_count": 1,
   "metadata": {},
   "outputs": [],
   "source": [
    "class Conta:\n",
    "    \n",
    "    def __init__(self, conta, titular, saldo, limite):              # Essa é a função chamada de construtora!!! Que servirá para a construção de vários objetos (contas)\n",
    "        self.conta = conta                                          # Esse self indica onde essa função está guardada na memória.\n",
    "        self.titular = titular\n",
    "        self.saldo = saldo\n",
    "        self.limite = limite        "
   ]
  },
  {
   "cell_type": "code",
   "execution_count": 2,
   "metadata": {},
   "outputs": [],
   "source": [
    "# agora vamos criar uma conta:\n",
    "\n",
    "conta4 = Conta(3728, \"Elizabeth\", 25000.0, 50000.0)\n",
    "conta5 = Conta(3792, \"Victor\", 17000.0, 34000.0)"
   ]
  },
  {
   "cell_type": "code",
   "execution_count": 10,
   "metadata": {},
   "outputs": [
    {
     "data": {
      "text/plain": [
       "('Elizabeth', 'Victor', 50000.0)"
      ]
     },
     "execution_count": 10,
     "metadata": {},
     "output_type": "execute_result"
    }
   ],
   "source": [
    "# a seguir vemos como fazer para acessar os dados das contas 4 e 5:\n",
    "\n",
    "conta4.titular, conta5.titular, conta4.limite"
   ]
  },
  {
   "cell_type": "code",
   "execution_count": null,
   "metadata": {},
   "outputs": [],
   "source": []
  }
 ],
 "metadata": {
  "kernelspec": {
   "display_name": "Python 3",
   "language": "python",
   "name": "python3"
  },
  "language_info": {
   "codemirror_mode": {
    "name": "ipython",
    "version": 3
   },
   "file_extension": ".py",
   "mimetype": "text/x-python",
   "name": "python",
   "nbconvert_exporter": "python",
   "pygments_lexer": "ipython3",
   "version": "3.11.3"
  },
  "orig_nbformat": 4
 },
 "nbformat": 4,
 "nbformat_minor": 2
}
