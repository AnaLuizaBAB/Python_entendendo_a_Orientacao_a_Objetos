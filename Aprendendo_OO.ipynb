{
 "cells": [
  {
   "cell_type": "markdown",
   "metadata": {},
   "source": [
    "- Vamos ver a lógica necessária para criar uma conta bancária, precisaremos: Nome do usuário, número da conta, daldo, limite e etc... Vamos criar isso de algumas formas para entendermos a lógica.\n",
    "\n",
    "- 1° modo de se fazer:"
   ]
  },
  {
   "cell_type": "code",
   "execution_count": null,
   "metadata": {},
   "outputs": [],
   "source": [
    "conta = 1213\n",
    "nome = \"Ana\"\n",
    "saldo = 16000.0\n",
    "limite = 40000.0\n",
    "\n",
    "conta2 = 456\n",
    "nome2 = \"Luiza\"\n",
    "saldo2 = 20000.0\n",
    "limite2 = 40000.0"
   ]
  },
  {
   "cell_type": "code",
   "execution_count": null,
   "metadata": {},
   "outputs": [],
   "source": [
    "# se \"chamarmos\" qualquer uma  das variáveis iremos receber o valor dela:\n",
    "\n",
    "limite, limite2\n",
    "\n",
    "# Mas isso não é muito otimizado."
   ]
  },
  {
   "cell_type": "markdown",
   "metadata": {},
   "source": [
    "- 2° modo (usando dicionário):"
   ]
  },
  {
   "cell_type": "code",
   "execution_count": null,
   "metadata": {},
   "outputs": [],
   "source": [
    "conta =  {\"conta\": 1213,\n",
    "\"nome\": \"Ana\",\n",
    "\"saldo\": 16000.0,\n",
    "\"limite\": 40000.0}\n",
    "\n",
    "conta2 = {\"conta2\": 456,\n",
    "\"nome2\": \"Luiza\",\n",
    "\"saldo2\": 20000.0,\n",
    "\"limite2\": 40000.0}"
   ]
  },
  {
   "cell_type": "code",
   "execution_count": null,
   "metadata": {},
   "outputs": [],
   "source": [
    "# se \"chamarmos\" qualquer uma  das variáveis iremos receber o valor dela:\n",
    "\n",
    "conta2[\"saldo2\"], conta[\"nome\"]\n",
    "\n",
    "## Mas isso ainda não é muito otimizado."
   ]
  },
  {
   "cell_type": "markdown",
   "metadata": {},
   "source": [
    "- 3° modo de se fazer:"
   ]
  },
  {
   "cell_type": "code",
   "execution_count": null,
   "metadata": {},
   "outputs": [],
   "source": [
    "# vamos criar uma função que seja responsável por criar essas contas:\n",
    "\n",
    "def cria_conta(conta, nome, saldo, limite):\n",
    "    conta =  {\"conta\": conta, \"nome\": nome, \"saldo\": saldo, \"limite\": limite}\n",
    "    return conta"
   ]
  },
  {
   "cell_type": "code",
   "execution_count": null,
   "metadata": {},
   "outputs": [],
   "source": [
    "conta3 = cria_conta(3890, \"Priscila\", 16000.0, 36000.0)"
   ]
  },
  {
   "cell_type": "code",
   "execution_count": null,
   "metadata": {},
   "outputs": [],
   "source": [
    "# após criarmos a conta por meio da função \"cria_conta\" podemos chamar qualquer uma das variáveis:\n",
    "\n",
    "conta3[\"saldo\"],conta3[\"nome\"], conta3[\"limite\"]"
   ]
  },
  {
   "cell_type": "markdown",
   "metadata": {},
   "source": [
    "###### - Vamos criar mais algumas funcionalidades para essa conta: depósitos, saques e extratos"
   ]
  },
  {
   "cell_type": "code",
   "execution_count": null,
   "metadata": {},
   "outputs": [],
   "source": [
    "def sacar (conta, valor):\n",
    "    conta[\"saldo\"] -= valor\n",
    "\n",
    "def depositar(conta, valor):\n",
    "    conta[\"saldo\"] += valor\n",
    "\n",
    "def extrato (conta):\n",
    "    return conta[\"saldo\"]"
   ]
  },
  {
   "cell_type": "code",
   "execution_count": null,
   "metadata": {},
   "outputs": [],
   "source": [
    "# vamos fazer alguns exemplos: Quero sacar 1000 da conta3\n",
    "\n",
    "sacar(conta3,1000)"
   ]
  },
  {
   "cell_type": "code",
   "execution_count": null,
   "metadata": {},
   "outputs": [],
   "source": [
    "# vamos ver se funcionou (a conta 3 inicialmente tinha um saldo de 16.000,00)\n",
    "\n",
    "conta3[\"saldo\"]"
   ]
  },
  {
   "cell_type": "code",
   "execution_count": null,
   "metadata": {},
   "outputs": [],
   "source": [
    "# agora vamos testar a função extrato:\n",
    "\n",
    "extrato(conta3)"
   ]
  },
  {
   "cell_type": "code",
   "execution_count": null,
   "metadata": {},
   "outputs": [],
   "source": [
    "# Mas note que posso acessar a conta sem necessariamente usar as funções:\n",
    "\n",
    "conta3['saldo'] = conta3['saldo'] + 2000\n",
    "\n",
    "conta3['saldo']"
   ]
  },
  {
   "cell_type": "markdown",
   "metadata": {},
   "source": [
    "- Agora vamos ver alguns problemas nesse modelo que estamos criando por meio da abordagem procedural:\n",
    "\n",
    "- 1° não somos obrigados a usar essas funções para criar contas, depositar ou sacar. Com isso podemos facilmente criar uma conta que não contenham todos os parâmetros sitados na função (conta, nome, saldo e função). Isso com certeza bagunçaria nosso \"sistema bancário\", ja que seria possivel criar uma conta sem saldo por exemplo ou uma conta sem um titular...\n",
    "\n",
    "- 2° imagine uma conta criada sem o parâmetro \"saldo\" operações de depósito e saque dariam erro.\n",
    "\n",
    "\n",
    "Para resolver problemas como esses nasceu a Programação Orientada a Objeto!"
   ]
  },
  {
   "cell_type": "markdown",
   "metadata": {},
   "source": [
    "- A abordagem procedural dificulta a manutenção do código, pois qualquer mudança em uma função pode afetar outras partes do código que se baseiam nela.\n"
   ]
  },
  {
   "cell_type": "markdown",
   "metadata": {},
   "source": [
    "#### - Iniciando OO"
   ]
  },
  {
   "cell_type": "code",
   "execution_count": null,
   "metadata": {},
   "outputs": [],
   "source": [
    "class Conta():\n",
    "\n",
    "    pass\n",
    "\n",
    "# esse \"pass\" é para indicar que a classe foi criada mas nada foi escrito só que mesmo assim gostariamos de fazer o programa rodar."
   ]
  },
  {
   "cell_type": "code",
   "execution_count": null,
   "metadata": {},
   "outputs": [],
   "source": [
    "contan = Conta()\n",
    "\n",
    "contan\n",
    "\n",
    "# esse resultado nos mostra onde essa \"contan\" foi armazenada na memória."
   ]
  },
  {
   "cell_type": "markdown",
   "metadata": {},
   "source": [
    "- 'iniciador'"
   ]
  },
  {
   "cell_type": "code",
   "execution_count": null,
   "metadata": {},
   "outputs": [],
   "source": [
    "class Conta:\n",
    "    \n",
    "    def __init__(self, conta, titular, saldo, limite):              # Essa é a função chamada de construtora!!! Que servirá para a construção de vários objetos (contas)\n",
    "        self.conta = conta                                          # Esse self indica o lugar onde essa função está guardada na memória.\n",
    "        self.titular = titular\n",
    "        self.saldo = saldo\n",
    "        self.limite = limite        "
   ]
  },
  {
   "cell_type": "code",
   "execution_count": null,
   "metadata": {},
   "outputs": [],
   "source": [
    "# agora vamos criar uma conta:\n",
    "\n",
    "conta4 = Conta(3728, \"Elizabeth\", 25000.0, 50000.0)\n",
    "conta5 = Conta(3792, \"Victor\", 17000.0, 34000.0)"
   ]
  },
  {
   "cell_type": "code",
   "execution_count": null,
   "metadata": {},
   "outputs": [],
   "source": [
    "# a seguir vemos como fazer para acessar os dados das contas 4 e 5:\n",
    "\n",
    "conta4.titular, conta5.titular, conta4.limite"
   ]
  },
  {
   "cell_type": "markdown",
   "metadata": {},
   "source": [
    "- Agora iremos adicionar médotos a classe:"
   ]
  },
  {
   "cell_type": "code",
   "execution_count": null,
   "metadata": {},
   "outputs": [],
   "source": [
    "class Conta:\n",
    "    \n",
    "    def __init__(self, conta, titular, saldo, limite):              # Essa é a função iniciadora!!! Que servirá para a iniciar de vários objetos (contas)\n",
    "        self.conta = conta                                          # Esse self indica o lugar onde essa função está guardada na memória.\n",
    "        self.titular = titular\n",
    "        self.saldo = saldo\n",
    "        self.limite = limite   \n",
    "\n",
    "    def extrato (self):\n",
    "        return self.saldo\n",
    "    \n",
    "    def deposito (self, valor):\n",
    "        self.saldo += valor\n",
    "    \n",
    "    def saque (self, valor):\n",
    "        self.saldo -= valor\n",
    "\n",
    "conta4 = Conta(3728, \"Elizabeth\", 25000.0, 50000.0)\n",
    "conta5 = Conta(3792, \"Victor\", 17000.0, 34000.0)"
   ]
  },
  {
   "cell_type": "code",
   "execution_count": null,
   "metadata": {},
   "outputs": [],
   "source": [
    "# Vamos testar o método métodos criados nas células a baixo:\n",
    "\n",
    "conta4.extrato(), conta4.saldo"
   ]
  },
  {
   "cell_type": "code",
   "execution_count": null,
   "metadata": {},
   "outputs": [],
   "source": [
    "conta4.deposito(20)\n",
    "conta4.extrato(), conta4.saldo"
   ]
  },
  {
   "cell_type": "code",
   "execution_count": null,
   "metadata": {},
   "outputs": [],
   "source": [
    "conta5.saque(11000)\n",
    "conta5.extrato(), conta5.saldo"
   ]
  },
  {
   "cell_type": "markdown",
   "metadata": {},
   "source": [
    "#### - Deixando os atibutos privados!"
   ]
  },
  {
   "cell_type": "markdown",
   "metadata": {},
   "source": [
    "- Como vimos nas céluas acima, ainda conseguimos acessar o extrato usando o \"conta.saldo\", conseguimos até alterar esse saldo se quisermos fanzendo por exemplo: \"conta.saldo = 10\" O que é MUITO ruim, como vimos mais cedo O.O veio exatamente para resolver problemas como esses. Então para resolver esse problema vamos mudar a visibilidade dos atributos deixando-os \"privados\" e para isso iremos adicionar dois underscors '__' antes de cada um dos nomes dos atributos, como veremos a baixo:"
   ]
  },
  {
   "cell_type": "code",
   "execution_count": null,
   "metadata": {},
   "outputs": [],
   "source": [
    "\n",
    "class Conta():\n",
    "\n",
    "\n",
    "    def __init__(self, conta, titular, saldo, limite):\n",
    "        self.__conta = conta\n",
    "        self.__titular = titular\n",
    "        self.__saldo = saldo\n",
    "        self.__limite = limite\n",
    "\n",
    "\n",
    "    def extrato (self):\n",
    "        return self.__saldo\n",
    "    \n",
    "    def deposito (self, valor):\n",
    "        self.__saldo += valor\n",
    "    \n",
    "    def saque (self, valor):\n",
    "        self.__saldo -= valor\n",
    "\n",
    "conta4 = Conta(3728, \"Elizabeth\", 25000.0, 50000.0)\n",
    "conta5 = Conta(3792, \"Victor\", 17000.0, 34000.0)"
   ]
  },
  {
   "cell_type": "code",
   "execution_count": null,
   "metadata": {},
   "outputs": [],
   "source": [
    "# agora eu não consigo mais acessar os atributos com o conta.saldo, dará erro.\n",
    "\n",
    "conta4.saldo"
   ]
  },
  {
   "cell_type": "code",
   "execution_count": null,
   "metadata": {},
   "outputs": [],
   "source": [
    "# Mas consigo acessar normalmente os médotos:\n",
    "\n",
    "conta4.extrato()\n",
    "conta4."
   ]
  },
  {
   "cell_type": "markdown",
   "metadata": {},
   "source": [
    "#### - Criando mais um método: Transferir."
   ]
  },
  {
   "cell_type": "code",
   "execution_count": null,
   "metadata": {},
   "outputs": [],
   "source": [
    "class Conta():\n",
    "\n",
    "\n",
    "    def __init__(self, conta, titular, saldo, limite):\n",
    "        self.__conta = conta\n",
    "        self.__titular = titular\n",
    "        self.__saldo = saldo\n",
    "        self.__limite = limite\n",
    "\n",
    "\n",
    "    def extrato (self):\n",
    "        return self.__saldo\n",
    "    \n",
    "    def deposito (self, valor):\n",
    "        self.__saldo += valor\n",
    "    \n",
    "    def saque (self, valor):\n",
    "        self.__saldo -= valor\n",
    "\n",
    "    def tranfere (self, valor, conta_destino):\n",
    "        self.saque(valor)\n",
    "        conta_destino.deposito(valor)\n",
    "\n",
    "# a princpipio escreveriamos o mpetodo acima da seguinte maneira \n",
    "        \n",
    "    # def tranfere (self, valor, conta_origem, conta_destino):\n",
    "    #     conta_origem.saque(valor)\n",
    "    #     conta_destino.deposito(valor)\n",
    "# Mas a conta de origem é a mesma que estamos usando no método \"transfere\" por isso podemos usar o próprio self para representar a conta de origem.\n",
    "\n",
    "\n",
    "conta4 = Conta(3728, \"Elizabeth\", 25000.0, 50000.0)\n",
    "conta5 = Conta(3792, \"Victor\", 17000.0, 34000.0)"
   ]
  },
  {
   "cell_type": "code",
   "execution_count": null,
   "metadata": {},
   "outputs": [],
   "source": [
    "# testando o método transferir:\n",
    "\n",
    "conta4.tranfere(1000, conta5)\n",
    "conta4.extrato(), conta5.extrato()"
   ]
  },
  {
   "cell_type": "markdown",
   "metadata": {},
   "source": [
    "- Agora iremos criar métodos que devolvam atributos como saldo, titular..."
   ]
  },
  {
   "cell_type": "code",
   "execution_count": null,
   "metadata": {},
   "outputs": [],
   "source": [
    "class Conta():\n",
    "\n",
    "\n",
    "    def __init__(self, conta, titular, saldo, limite):\n",
    "        self.__conta = conta\n",
    "        self.__titular = titular\n",
    "        self.__saldo = saldo\n",
    "        self.__limite = limite\n",
    "\n",
    "\n",
    "    def extrato (self):\n",
    "        return self.__saldo\n",
    "    \n",
    "    def deposito (self, valor):\n",
    "        self.__saldo += valor\n",
    "    \n",
    "    def saque (self, valor):\n",
    "        self.__saldo -= valor\n",
    "\n",
    "    def tranfere (self, valor, conta_destino):\n",
    "        self.saque(valor)\n",
    "        conta_destino.deposito(valor)\n",
    "\n",
    "    def get_saldo(self):\n",
    "        return self.__saldo\n",
    "    \n",
    "    def get_limite(self):\n",
    "        return self.__limite\n",
    "    \n",
    "    def get_titular(self):\n",
    "        return self.__titular\n",
    "\n",
    "##### - Agora vamos criar outro método que altere o vamor do limite de uma determinada conta.py\n",
    "\n",
    "    def set_limite(self, novo_limite):\n",
    "        self.__limite = novo_limite\n",
    "\n",
    "conta4 = Conta(3728, \"Elizabeth\", 25000.0, 50000.0)\n",
    "conta5 = Conta(3792, \"Victor\", 17000.0, 34000.0)"
   ]
  },
  {
   "cell_type": "code",
   "execution_count": null,
   "metadata": {},
   "outputs": [],
   "source": [
    "# Vamos testar os primeiros 3 módulos que foram criados?\n",
    "\n",
    "conta4.get_titular(), conta4.get_saldo(), conta4.get_limite()"
   ]
  },
  {
   "cell_type": "code",
   "execution_count": null,
   "metadata": {},
   "outputs": [],
   "source": [
    "# - Agora vamos testar o ultimo módulo criado:\n",
    "\n",
    "conta5.set_limite(51000)\n"
   ]
  },
  {
   "cell_type": "code",
   "execution_count": null,
   "metadata": {},
   "outputs": [],
   "source": [
    "conta5.get_limite()\n",
    "\n",
    "# \\o/ conseguimos alerar o limite!!!"
   ]
  },
  {
   "cell_type": "markdown",
   "metadata": {},
   "source": [
    "#### - Propriedades"
   ]
  },
  {
   "cell_type": "code",
   "execution_count": 2,
   "metadata": {},
   "outputs": [],
   "source": [
    "class Conta():\n",
    "\n",
    "\n",
    "    def __init__(self, conta, titular, saldo, limite):\n",
    "        self.__conta = conta\n",
    "        self.__titular = titular\n",
    "        self.__saldo = saldo\n",
    "        self.__limite = limite\n",
    "\n",
    "\n",
    "    def extrato (self):\n",
    "        return self.__saldo\n",
    "    \n",
    "    def deposito (self, valor):\n",
    "        self.__saldo += valor\n",
    "    \n",
    "    def saque (self, valor):\n",
    "        self.__saldo -= valor\n",
    "\n",
    "    def tranfere (self, valor, conta_destino):\n",
    "        self.saque(valor)\n",
    "        conta_destino.deposito(valor)\n",
    "\n",
    "    @property\n",
    "    def saldo(self):\n",
    "        return self.__saldo\n",
    "    \n",
    "    @property\n",
    "    def limite(self):\n",
    "        return self.__limite\n",
    "    @property\n",
    "    def titular(self):\n",
    "        return self.__titular\n",
    "\n",
    "    @limite.setter\n",
    "    def limite(self, novo_limite):\n",
    "        self.__limite = novo_limite\n",
    "\n",
    "\n",
    "conta4 = Conta(3728, \"Elizabeth\", 25000.0, 50000.0)\n",
    "conta5 = Conta(3792, \"Victor\", 17000.0, 34000.0)"
   ]
  },
  {
   "cell_type": "markdown",
   "metadata": {},
   "source": [
    "- Note que com essas \"propriedades\" conseguimos acessar os atributos de uma forma mais natural em vez de chamar: 'conta4.get_saldo()' pode-se usar 'conta4.saldo' por exemplo."
   ]
  },
  {
   "cell_type": "code",
   "execution_count": 6,
   "metadata": {},
   "outputs": [
    {
     "data": {
      "text/plain": [
       "(25000.0, 'Elizabeth', 50000.0)"
      ]
     },
     "execution_count": 6,
     "metadata": {},
     "output_type": "execute_result"
    }
   ],
   "source": [
    "conta4.saldo, conta4.titular, conta4.limite"
   ]
  },
  {
   "cell_type": "code",
   "execution_count": 7,
   "metadata": {},
   "outputs": [],
   "source": [
    "conta4.limite = 100000.0"
   ]
  },
  {
   "cell_type": "code",
   "execution_count": 8,
   "metadata": {},
   "outputs": [
    {
     "data": {
      "text/plain": [
       "100000.0"
      ]
     },
     "execution_count": 8,
     "metadata": {},
     "output_type": "execute_result"
    }
   ],
   "source": [
    "conta4.limite\n",
    "\n",
    "# como podemos ver o limite foi alterado com sucesso."
   ]
  },
  {
   "cell_type": "markdown",
   "metadata": {},
   "source": []
  },
  {
   "cell_type": "markdown",
   "metadata": {},
   "source": [
    "#### - Desafio Opcional"
   ]
  },
  {
   "cell_type": "code",
   "execution_count": null,
   "metadata": {},
   "outputs": [],
   "source": [
    "class Data:\n",
    "\n",
    "    def __init__(self, dia, mes, ano):\n",
    "        self.dia = dia\n",
    "        self.mes = mes\n",
    "        self.ano = ano\n",
    "        return print(f\"{dia:02d}/{mes:02d}/{ano}\")        # \":02d\" é para deixar os números referentes a dia e mês com duas casas."
   ]
  },
  {
   "cell_type": "code",
   "execution_count": null,
   "metadata": {},
   "outputs": [],
   "source": [
    "data = Data(8, 2, 1992)"
   ]
  },
  {
   "cell_type": "code",
   "execution_count": null,
   "metadata": {},
   "outputs": [],
   "source": [
    "data = Data (24,12,2000)"
   ]
  }
 ],
 "metadata": {
  "kernelspec": {
   "display_name": "Python 3",
   "language": "python",
   "name": "python3"
  },
  "language_info": {
   "codemirror_mode": {
    "name": "ipython",
    "version": 3
   },
   "file_extension": ".py",
   "mimetype": "text/x-python",
   "name": "python",
   "nbconvert_exporter": "python",
   "pygments_lexer": "ipython3",
   "version": "3.11.3"
  },
  "orig_nbformat": 4
 },
 "nbformat": 4,
 "nbformat_minor": 2
}
